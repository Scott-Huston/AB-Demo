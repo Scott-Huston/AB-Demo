{
  "nbformat": 4,
  "nbformat_minor": 0,
  "metadata": {
    "colab": {
      "name": "Guess_The_Number.ipynb",
      "version": "0.3.2",
      "provenance": [],
      "include_colab_link": true
    },
    "kernelspec": {
      "name": "python3",
      "display_name": "Python 3"
    }
  },
  "cells": [
    {
      "cell_type": "markdown",
      "metadata": {
        "id": "view-in-github",
        "colab_type": "text"
      },
      "source": [
        "<a href=\"https://colab.research.google.com/github/Scott-Huston/AB-Demo/blob/master/Guess_The_Number.ipynb\" target=\"_parent\"><img src=\"https://colab.research.google.com/assets/colab-badge.svg\" alt=\"Open In Colab\"/></a>"
      ]
    },
    {
      "cell_type": "markdown",
      "metadata": {
        "id": "GsiFw6c8fElO",
        "colab_type": "text"
      },
      "source": [
        "## **Create a Python project to guess a number that has been randomly selected.**"
      ]
    },
    {
      "cell_type": "markdown",
      "metadata": {
        "id": "XGCqPI3cGJQB",
        "colab_type": "text"
      },
      "source": [
        "### You may use any libraries, sorcery or code with a buddy. Have fun with this and get creative! If you have extra time, try to improve your code as much as possible. "
      ]
    },
    {
      "cell_type": "code",
      "metadata": {
        "id": "I5RckdAGe70x",
        "colab_type": "code",
        "colab": {
          "base_uri": "https://localhost:8080/",
          "height": 935
        },
        "outputId": "fb35b9e6-2954-42b9-892f-a5055b525cdb"
      },
      "source": [
        "import random\n",
        "\n",
        "print('  _____                                       ')\n",
        "print(' /     \\              _____   _____    _____  ') \n",
        "print('/       \\  |      |  /       /        /       ')\n",
        "print('|          |      |  |       |        |       ')\n",
        "print('|    ___   |      |  |____   \\_____   \\_____  ')\n",
        "print('|       |  |      |  |             \\        \\ ')\n",
        "print('\\       /  \\      /  |             |        | ')\n",
        "print(' \\_____/    \\____/   \\_____  \\_____/  \\_____/ ')\n",
        "\n",
        "print('This program keeps track of how many guesses it takes you to guess a random integer from one to ten')\n",
        "\n",
        "total_guesses = 0\n",
        "answers = 0\n",
        "while(True):\n",
        "  guesses = 0\n",
        "  number = random.randint(1,10)\n",
        "  while(True):\n",
        "    print('Enter guess')\n",
        "    guess = int(input())\n",
        "    guesses+=1\n",
        "    if guess == number:\n",
        "      print('You\\'re right, congratulations!')\n",
        "      answers+=1\n",
        "      total_guesses+=guesses\n",
        "      break\n",
        "    elif guess > number:\n",
        "      print('Too high')\n",
        "    elif guess < number:\n",
        "      print('Too low')\n",
        "  print('You solved it in ',guesses,' guesses!')\n",
        "  print('You\\'re average score is ', total_guesses/answers, ' guesses.')\n",
        "  print('To play again, press enter. To exit program, type anything else and press enter')\n",
        "  again = input()\n",
        "  if again != '':\n",
        "    break\n"
      ],
      "execution_count": 14,
      "outputs": [
        {
          "output_type": "stream",
          "text": [
            "  _____                                         \n",
            " /     \\               _____   _____     _____  \n",
            "/       \\   |      |  /       /         /       \n",
            "|           |      |  |       |         |       \n",
            "|    ___    |      |  |____   \\_____    \\_____  \n",
            "|       |   |      |  |             \\         \\ \n",
            "\\       /   \\      /  |             |         | \n",
            " \\_____/     \\____/   \\_____  \\_____/   \\_____/ \n",
            "This program keeps track of how many guesses it takes you to guess a random integer from one to ten\n",
            "Enter guess\n",
            "5\n",
            "Too low\n",
            "Enter guess\n",
            "3\n",
            "Too low\n",
            "Enter guess\n",
            "8\n",
            "Too high\n",
            "Enter guess\n",
            "7\n",
            "Too high\n",
            "Enter guess\n",
            "6\n",
            "You're right, congratulations!\n",
            "You solved it in  5  guesses!\n",
            "You're average score is  5.0  guesses.\n",
            "To play again, press enter. To exit program, type anything else\n",
            "\n",
            "Enter guess\n",
            "5\n",
            "Too low\n",
            "Enter guess\n",
            "8\n",
            "Too high\n",
            "Enter guess\n",
            "7\n",
            "You're right, congratulations!\n",
            "You solved it in  3  guesses!\n",
            "You're average score is  4.0  guesses.\n",
            "To play again, press enter. To exit program, type anything else\n",
            "\n",
            "Enter guess\n",
            "5\n",
            "Too high\n",
            "Enter guess\n",
            "3\n",
            "Too high\n",
            "Enter guess\n",
            "2\n",
            "You're right, congratulations!\n",
            "You solved it in  3  guesses!\n",
            "You're average score is  3.6666666666666665  guesses.\n",
            "To play again, press enter. To exit program, type anything else\n",
            " \n"
          ],
          "name": "stdout"
        }
      ]
    }
  ]
}